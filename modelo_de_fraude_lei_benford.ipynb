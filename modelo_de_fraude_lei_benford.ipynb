{
 "cells": [
  {
   "cell_type": "markdown",
   "metadata": {},
   "source": [
    "<img src='celestial sphere.png'>"
   ]
  },
  {
   "cell_type": "markdown",
   "metadata": {},
   "source": [
    "# Lei de Benford"
   ]
  },
  {
   "cell_type": "markdown",
   "metadata": {},
   "source": [
    "A **Lei de Benford**, também chamada de **lei do primeiro dígito**, **lei de Newcomb-Benford** e **lei números anômalos** refere-se à distribuição de dígitos em várias fontes de casos reais. Ao contrário da homogeneidade esperada, a lei afirma que em muitas coleções de números que ocorrem naturalmente, o primeiro dígito significativo provavelmente será pequeno. Sem homogeneidade, esta distribuição mostra que o dígito 1 tem 30% de chance de aparecer em um conjunto de dados estatísticos enquanto valores maiores tem menos possibilidade de aparecer.\n",
    "Descoberta completamente ao acaso em 1881, a lei de Benford foi observada pela primeira vez pelo astrônomo canadense Simon Newcomb. Ele reparou que o livro de logaritmos que utilizava para seus cálculos estava com as primeiras páginas mais gastas do que as páginas próximas ao final.\n",
    "\n",
    "Frank Benford demonstrou que esse resultado se aplica a uma ampla variedade de conjuntos de dados, incluindo contas de eletricidade, endereços, preços de ações, preços de casas, números de população, taxas de mortalidade, comprimentos de rios, constantes físicas e matemáticas. pelas leis de potência (que são muito comuns na natureza). Todas essas afirmações são calculadas ou definidas junto a uma escala logarítmica.\n",
    "\n",
    "## Tabela\n",
    "\n",
    "<img src='benford_table.JPG'>\n",
    "\n",
    "## Distribuição da Lei de Benford\n",
    "<img src='distribuicao_benford.jpg'>\n",
    "\n",
    "\n",
    "## Lei de Benford em Data Science\n",
    "\n",
    "A Lei de Benford é útil para a área de ciência de dados pois é uma maneira simples e eficiente de identificar anomalias na base de dados, demonstrando indícios de fraude.\n",
    "Este <a href = 'https://www.researchgate.net/publication/227450787_Difficulties_Detecting_Fraud_The_Use_of_Benford%27s_Law_on_Regression_Tables'>paper</a> mostra como utilizar a Lei de Benford para identifcação de fraudes.\n",
    "\n",
    "Análise de fraude contábil, análise de preços e até como prova judicial.\n",
    "\n",
    "Fonte: <a href = 'https://pt.wikipedia.org/wiki/Lei_de_Benford'>Wikipedia</a>"
   ]
  },
  {
   "cell_type": "code",
   "execution_count": null,
   "metadata": {},
   "outputs": [],
   "source": [
    "#importando bibliotecas\n",
    "import pandas as pd\n",
    "import numpy as np\n",
    "import math\n",
    "import matplotlib.pyplot as plt\n",
    "import matplotlib.style as style\n",
    "import seaborn as sns\n",
    "%matplotlib inline\n",
    "\n",
    "# setting up plot style \n",
    "style.use('seaborn-poster')\n",
    "style.use('fivethirtyeight')"
   ]
  },
  {
   "cell_type": "code",
   "execution_count": null,
   "metadata": {},
   "outputs": [],
   "source": [
    "#importando dataset\n",
    "df_youtube = pd.read_csv('youtube.csv')"
   ]
  },
  {
   "cell_type": "code",
   "execution_count": null,
   "metadata": {},
   "outputs": [],
   "source": [
    "df_youtube.head()"
   ]
  },
  {
   "cell_type": "code",
   "execution_count": null,
   "metadata": {},
   "outputs": [],
   "source": [
    "#função para extração do primeiro dígito\n",
    "def primeiro_digito(numero):\n",
    "    return str(numero)[0]"
   ]
  },
  {
   "cell_type": "code",
   "execution_count": null,
   "metadata": {},
   "outputs": [],
   "source": [
    "df_youtube['likes']"
   ]
  },
  {
   "cell_type": "code",
   "execution_count": null,
   "metadata": {},
   "outputs": [],
   "source": [
    "#aplicando função da coluna de likes\n",
    "df_youtube['likes'].apply(primeiro_digito)"
   ]
  },
  {
   "cell_type": "code",
   "execution_count": null,
   "metadata": {},
   "outputs": [],
   "source": [
    "df_youtube['likes'].apply(primeiro_digito).value_counts(normalize = True).plot.bar(ylabel = 'Percentual',\n",
    "xlabel = 'Primeiro Dígito', title = 'Distribuição do Primeiro Dígito')\n",
    "plt.show()"
   ]
  },
  {
   "cell_type": "markdown",
   "metadata": {},
   "source": [
    "Podemos observar que a distribuição se assemelha bastante com a Lei de Benford. Este é um indício de que os dados são verídicos.\n",
    "\n",
    "Vamos incrementar nossa função para receber uma coluna numérica de um dataset e retornar a frequência dos dígitos."
   ]
  },
  {
   "cell_type": "code",
   "execution_count": null,
   "metadata": {},
   "outputs": [],
   "source": [
    "#função para receber a coluna de um dataframe e retornar a frequência do primeiro dígito\n",
    "def frequencia_digitos(coluna):\n",
    "    filtro = coluna.apply(primeiro_digito) != '0'\n",
    "    return coluna.loc[filtro].apply(primeiro_digito).value_counts(normalize = True)"
   ]
  },
  {
   "cell_type": "code",
   "execution_count": null,
   "metadata": {},
   "outputs": [],
   "source": [
    "#teste\n",
    "frequencia_digitos(df_youtube['likes'])"
   ]
  },
  {
   "cell_type": "markdown",
   "metadata": {},
   "source": [
    "## Fórmula da Lei de Benford\n",
    "\n",
    "$$log_{10}\\left ( 1 + \\frac{1}{d} \\right )$$\n"
   ]
  },
  {
   "cell_type": "code",
   "execution_count": null,
   "metadata": {},
   "outputs": [],
   "source": [
    "#exemplo\n",
    "digito = 3\n",
    "math.log10(1+1/digito)"
   ]
  },
  {
   "cell_type": "markdown",
   "metadata": {},
   "source": [
    "Vamos criar uma lista com a frequência esperada de cada número de acordo com a Lei de Benford."
   ]
  },
  {
   "cell_type": "code",
   "execution_count": null,
   "metadata": {},
   "outputs": [],
   "source": [
    "lista_num = [1,2,3,4,5,6,7,8,9]\n",
    "frequencia_esperada = [ math.log10(1+1/digito) for digito in lista_num ]\n",
    "frequencia_esperada"
   ]
  },
  {
   "cell_type": "code",
   "execution_count": null,
   "metadata": {},
   "outputs": [],
   "source": [
    "#função para comparar a frequência esperada com a frequência obtida\n",
    "def benford(coluna):\n",
    "    df_final = pd.DataFrame(index= [ str(digito) for digito in lista_num ])\n",
    "    df_final['esperado'] = frequencia_esperada\n",
    "    df_final['real'] = frequencia_digitos(coluna)\n",
    "    df_final.plot.bar(ylabel = 'Percentual', xlabel = 'Primeiro Dígito', title = 'DISTRIBUIÇÃO DO PRIMEIRO DÍGITO \\n'\n",
    "                      'Real x Esperado')\n",
    "    \n",
    "    return df_final"
   ]
  },
  {
   "cell_type": "code",
   "execution_count": null,
   "metadata": {},
   "outputs": [],
   "source": [
    "#testando em uma coluna\n",
    "benford(df_youtube['dislikes'])"
   ]
  },
  {
   "cell_type": "code",
   "execution_count": null,
   "metadata": {},
   "outputs": [],
   "source": [
    "benford(df_youtube['views'])"
   ]
  },
  {
   "cell_type": "code",
   "execution_count": null,
   "metadata": {},
   "outputs": [],
   "source": [
    "benford(df_youtube['comment_count'])"
   ]
  },
  {
   "cell_type": "markdown",
   "metadata": {},
   "source": [
    "Analisando os gráficos acima das colunas numéricas, podemos perceber que a frequência obtida do primeiro dígito acompanha a frequência esperada, a Lei de Benford."
   ]
  },
  {
   "cell_type": "markdown",
   "metadata": {},
   "source": [
    "### Testando com outro dataset"
   ]
  },
  {
   "cell_type": "code",
   "execution_count": null,
   "metadata": {},
   "outputs": [],
   "source": [
    "#número de casos notificados da Covid\n",
    "df_covid = pd.read_csv('covid_mundo.csv')\n",
    "df_covid.head()"
   ]
  },
  {
   "cell_type": "code",
   "execution_count": null,
   "metadata": {},
   "outputs": [],
   "source": [
    "#printando todas as colunas\n",
    "print(df_covid.columns.tolist())"
   ]
  },
  {
   "cell_type": "code",
   "execution_count": null,
   "metadata": {},
   "outputs": [],
   "source": [
    "benford(df_covid['Brazil'])"
   ]
  },
  {
   "cell_type": "markdown",
   "metadata": {},
   "source": [
    "Podemos ver que nesse caso, os números não acompanham a Lei de Benford. Uma causa possível seria a falta defasagem nas testagens no país e subnotificações.\n",
    "\n",
    "Vejamos os dados de alguns países cujo monitoramento da Covid-19 foi feito de forma mais ampla e próxima do ideal (testagens altas e baixo índice de subnotificação)."
   ]
  },
  {
   "cell_type": "code",
   "execution_count": null,
   "metadata": {},
   "outputs": [],
   "source": [
    "#Nova Zelândia\n",
    "benford(df_covid['New Zealand'])"
   ]
  },
  {
   "cell_type": "code",
   "execution_count": null,
   "metadata": {},
   "outputs": [],
   "source": [
    "#Coreia do Sul\n",
    "benford(df_covid['China'])"
   ]
  },
  {
   "cell_type": "markdown",
   "metadata": {},
   "source": [
    "A diferença dos países que rastrearam melhor o vírus acabam tendo uma representação mais próxima da Lei de Benford na distribuição da frequência do primeiro dígito."
   ]
  }
 ],
 "metadata": {
  "kernelspec": {
   "display_name": "Python 3",
   "language": "python",
   "name": "python3"
  },
  "language_info": {
   "codemirror_mode": {
    "name": "ipython",
    "version": 3
   },
   "file_extension": ".py",
   "mimetype": "text/x-python",
   "name": "python",
   "nbconvert_exporter": "python",
   "pygments_lexer": "ipython3",
   "version": "3.7.6"
  }
 },
 "nbformat": 4,
 "nbformat_minor": 4
}
